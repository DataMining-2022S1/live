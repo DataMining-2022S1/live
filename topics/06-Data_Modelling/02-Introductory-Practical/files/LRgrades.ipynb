{
 "cells": [
  {
   "cell_type": "markdown",
   "id": "34df62e5",
   "metadata": {},
   "source": [
    "# Simple linear regression"
   ]
  },
  {
   "cell_type": "markdown",
   "id": "0440d508",
   "metadata": {},
   "source": [
    "## Import the relevant libraries"
   ]
  },
  {
   "cell_type": "code",
   "execution_count": null,
   "id": "2b989273",
   "metadata": {},
   "outputs": [],
   "source": [
    "import numpy as np\n",
    "import pandas as pd\n",
    "import matplotlib.pyplot as plt\n",
    "\n",
    "# We can override the default matplotlib styles with those of Seaborn\n",
    "import seaborn as sns\n",
    "sns.set()"
   ]
  },
  {
   "cell_type": "code",
   "execution_count": null,
   "id": "97d8dd90",
   "metadata": {},
   "outputs": [],
   "source": [
    "%%capture\n",
    "# See https://stackoverflow.com/a/65808542/1988855\n",
    "import statsmodels.api as sm"
   ]
  },
  {
   "cell_type": "markdown",
   "id": "8bfde5d0",
   "metadata": {},
   "source": [
    "## Load the data"
   ]
  },
  {
   "cell_type": "code",
   "execution_count": null,
   "id": "ceeddf8f",
   "metadata": {},
   "outputs": [],
   "source": [
    "# Load the data from a .csv in the same folder\n",
    "data = pd.read_csv('data/eduGrades.csv')"
   ]
  },
  {
   "cell_type": "code",
   "execution_count": null,
   "id": "eb19b59a",
   "metadata": {},
   "outputs": [],
   "source": [
    "# Let's check what's inside this data frame\n",
    "data.head()"
   ]
  },
  {
   "cell_type": "code",
   "execution_count": null,
   "id": "14510c68",
   "metadata": {},
   "outputs": [],
   "source": [
    "# This method gives us very nice descriptive statistics. We don't need this as of now, but will later on!\n",
    "data.describe()"
   ]
  },
  {
   "cell_type": "markdown",
   "id": "e722d4db",
   "metadata": {},
   "source": [
    "# Create your first regression"
   ]
  },
  {
   "cell_type": "markdown",
   "id": "2df4b414",
   "metadata": {},
   "source": [
    "## Define the dependent and the independent variables"
   ]
  },
  {
   "cell_type": "code",
   "execution_count": null,
   "id": "d58f9b87",
   "metadata": {},
   "outputs": [],
   "source": [
    "# Following the regression equation, our dependent variable (y) is the GPA\n",
    "pCol='verb_SAT'\n",
    "tCol='univ_GPA'\n",
    "\n",
    "y = data [tCol]\n",
    "# Similarly, our independent variable (x) is the SAT score\n",
    "x1 = data [pCol]"
   ]
  },
  {
   "cell_type": "markdown",
   "id": "60f9c580",
   "metadata": {},
   "source": [
    "## Explore the data"
   ]
  },
  {
   "cell_type": "code",
   "execution_count": null,
   "id": "e3b13f2c",
   "metadata": {},
   "outputs": [],
   "source": [
    "# Plot a scatter plot (first we put the horizontal axis, then the vertical axis)\n",
    "plt.scatter(x1,y)\n",
    "# Name the axes\n",
    "plt.xlabel(pCol, fontsize = 10)\n",
    "plt.ylabel(tCol, fontsize = 10)\n",
    "# Show the plot\n",
    "plt.show()"
   ]
  },
  {
   "cell_type": "markdown",
   "id": "d70cdbdd",
   "metadata": {},
   "source": [
    "## Regression itself"
   ]
  },
  {
   "cell_type": "code",
   "execution_count": null,
   "id": "64e08c68",
   "metadata": {},
   "outputs": [],
   "source": [
    "%%capture\n",
    "# Add a constant. Essentially, we are adding a new column (equal in length to x), which consists only of 1s\n",
    "X = sm.add_constant(x1)"
   ]
  },
  {
   "cell_type": "code",
   "execution_count": null,
   "id": "3851e7bb",
   "metadata": {},
   "outputs": [],
   "source": [
    "def fitOLS(X,y):\n",
    "  # Fit the model, according to the OLS (ordinary least squares) method with a dependent variable y and an idependent X\n",
    "  results = sm.OLS(y,X).fit()\n",
    "  return results"
   ]
  },
  {
   "cell_type": "code",
   "execution_count": null,
   "id": "19e8ac61",
   "metadata": {},
   "outputs": [],
   "source": [
    "results = fitOLS(X,y)\n",
    "\n",
    "# Print a nice summary of the regression. That's one of the strong points of statsmodels -> the summaries\n",
    "results.summary()"
   ]
  },
  {
   "cell_type": "code",
   "execution_count": null,
   "id": "aed98789",
   "metadata": {},
   "outputs": [],
   "source": [
    "# Create a scatter plot\n",
    "plt.scatter(x1,y)\n",
    "# Define the regression equation, so we can plot it later.\n",
    "# Note that the fitted parameters are in the results.params array.\n",
    "yhat = results.params[0] + results.params[1]*x1\n",
    "# Plot the regression line against the independent variable\n",
    "fig = plt.plot(x1,yhat, lw=4, c='orange', label ='regression line')\n",
    "# Label the axes\n",
    "plt.xlabel(pCol, fontsize = 10)\n",
    "plt.ylabel(tCol, fontsize = 10)\n",
    "plt.show()"
   ]
  },
  {
   "cell_type": "markdown",
   "id": "5ee9c97c",
   "metadata": {},
   "source": [
    "# Exercise\n",
    "\n",
    "Clearly the score on the verbal SAT score (obtained in \"high school\") is not a particularly good predictor of college GPA performance.\n",
    "\n",
    "1. Repeat the process using the math SAT score. Does it perform any better? Give reasons for your answer.\n",
    "2. Do the same with the GPA obtained in \"high school\"...."
   ]
  },
  {
   "cell_type": "markdown",
   "id": "0780d0b1",
   "metadata": {},
   "source": [
    "We can add another predictor to our model, to see whether it performs better than a univariate (single predictor) model. What if we add the `math_SAT` column to the `verb_SAT` predictor?"
   ]
  },
  {
   "cell_type": "code",
   "execution_count": null,
   "id": "b808ee37",
   "metadata": {},
   "outputs": [],
   "source": [
    "pCol1='verb_SAT'\n",
    "pCol2='math_SAT'\n",
    "X = data[[pCol1, pCol2]]"
   ]
  },
  {
   "cell_type": "code",
   "execution_count": null,
   "id": "b8df2f48",
   "metadata": {},
   "outputs": [],
   "source": [
    "%%capture\n",
    "# Add a constant. Essentially, we are adding a new column (equal in length to x), which consists only of 1s\n",
    "X = sm.add_constant(X)"
   ]
  },
  {
   "cell_type": "markdown",
   "id": "aee643e9",
   "metadata": {},
   "source": [
    "Now we try fitting again, with the expanded (2-predictor + constant) X."
   ]
  },
  {
   "cell_type": "code",
   "execution_count": null,
   "id": "0cd76da1",
   "metadata": {},
   "outputs": [],
   "source": [
    "results2 = fitOLS(X,y)\n",
    "results2.summary()"
   ]
  },
  {
   "cell_type": "markdown",
   "id": "4ce66257",
   "metadata": {},
   "source": [
    "Plotting is a bit more tricky than before, because we need to do a 3-D plot over a mesh of points in \"predictor space\". First we compute the points on the hyperplane."
   ]
  },
  {
   "cell_type": "code",
   "execution_count": null,
   "id": "6a21c987",
   "metadata": {},
   "outputs": [],
   "source": [
    "from mpl_toolkits.mplot3d import Axes3D\n",
    "\n",
    "# Range of predictor values for 3d plot\n",
    "x1 = np.linspace(data[pCol1].min(), data[pCol1].max(), 100)\n",
    "x2 = np.linspace(data[pCol2].min(), data[pCol2].max(), 100)\n",
    "\n",
    "# Mesh of predictor values for 3d plot\n",
    "xx1, xx2 = np.meshgrid(x1, x2)\n",
    "                       \n",
    "# Compute the hyperplane values by evaluating the points on the grid \n",
    "Z = results2.params[0] + xx1*results2.params[1] + xx2*results2.params[2]"
   ]
  },
  {
   "cell_type": "markdown",
   "id": "10898d23",
   "metadata": {},
   "source": [
    "Now we setup the shared axes with viewing direction, the surface and the actual data."
   ]
  },
  {
   "cell_type": "code",
   "execution_count": null,
   "id": "229220d9",
   "metadata": {},
   "outputs": [],
   "source": [
    "import warnings\n",
    "# create matplotlib 3d axes \n",
    "fig = plt.figure(figsize=(12, 8))\n",
    "\n",
    "with warnings.catch_warnings():\n",
    "    warnings.simplefilter('ignore')\n",
    "    ax = Axes3D(fig, azim=-115, elev=15)\n",
    "\n",
    "# plot hyperplane \n",
    "plane = ax.plot_surface(xx1, xx2, Z, cmap=plt.cm.RdBu_r, alpha=0.6, linewidth=0) \n",
    "\n",
    "# plot data points - points above the hyperplane are white, points below are black \n",
    "resid = y - results2.predict(X) \n",
    "ax.scatter(X[resid >= 0][pCol1], X[resid >= 0][pCol2], y[resid >= 0], color='black', alpha=1.0, facecolor='white') \n",
    "ax.scatter(X[resid < 0][pCol1], X[resid < 0][pCol2], y[resid < 0], color='black', alpha=1.0) \n",
    "\n",
    "# set axis labels \n",
    "ax.set_xlabel(pCol1) \n",
    "ax.set_ylabel(pCol2) \n",
    "ax.set_zlabel(tCol)"
   ]
  }
 ],
 "metadata": {
  "jupytext": {
   "formats": "ipynb,py:percent"
  },
  "kernelspec": {
   "display_name": "Python 3 (ipykernel)",
   "language": "python",
   "name": "python3"
  }
 },
 "nbformat": 4,
 "nbformat_minor": 5
}
