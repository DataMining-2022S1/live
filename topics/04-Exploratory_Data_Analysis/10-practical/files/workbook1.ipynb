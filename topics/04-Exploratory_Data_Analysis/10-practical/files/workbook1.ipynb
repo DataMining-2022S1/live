{
 "cells": [
  {
   "cell_type": "markdown",
   "id": "166f09b7",
   "metadata": {
    "tags": []
   },
   "source": [
    "# Workbook\n",
    "\n",
    "Use this notebook to complete the exercises throughout the workshop.\n",
    "\n",
    "#### Table of Contents\n",
    "- [Section 1 &ndash; Getting Started with Pandas](#Section-1)\n",
    "- [Section 2 &ndash; Data Wrangling](#Section-2)\n",
    "\n",
    "--- \n",
    "\n",
    "### Section 1\n",
    "\n",
    "#### Exercise 1.1\n",
    "##### Create a DataFrame by reading in the `2019_Yellow_Taxi_Trip_Data.csv` file. Examine the first 5 rows."
   ]
  },
  {
   "cell_type": "code",
   "execution_count": null,
   "id": "b9b315de",
   "metadata": {},
   "outputs": [],
   "source": []
  },
  {
   "cell_type": "markdown",
   "id": "ee5519cc",
   "metadata": {},
   "source": [
    "#### Exercise 1.2\n",
    "##### Find the dimensions (number of rows and number of columns) in the data."
   ]
  },
  {
   "cell_type": "code",
   "execution_count": null,
   "id": "0a566eb2",
   "metadata": {},
   "outputs": [],
   "source": []
  },
  {
   "cell_type": "markdown",
   "id": "c785bfb3",
   "metadata": {
    "tags": []
   },
   "source": [
    "#### Exercise 1.3\n",
    "##### Using the data in the `2019_Yellow_Taxi_Trip_Data.csv` file, calculate summary statistics for the `fare_amount`, `tip_amount`, `tolls_amount`, and `total_amount` columns."
   ]
  },
  {
   "cell_type": "code",
   "execution_count": null,
   "id": "ef291691",
   "metadata": {},
   "outputs": [],
   "source": []
  },
  {
   "cell_type": "markdown",
   "id": "243c743d",
   "metadata": {
    "tags": []
   },
   "source": [
    "#### Exercise 1.4\n",
    "##### Isolate the `fare_amount`, `tip_amount`, `tolls_amount`, and `total_amount` for the longest trip by distance (`trip_distance`)."
   ]
  },
  {
   "cell_type": "code",
   "execution_count": null,
   "id": "a62b8df0",
   "metadata": {},
   "outputs": [],
   "source": []
  },
  {
   "cell_type": "markdown",
   "id": "26ac44ea",
   "metadata": {},
   "source": [
    "---\n",
    "\n",
    "### Section 2\n",
    "\n",
    "#### Exercise 2.1\n",
    "##### Read in the meteorite data from the `Meteorite_Landings.csv` file, rename the `mass (g)` column to `mass`, and drop all the latitude and longitude columns. Sort the result by mass in descending order."
   ]
  },
  {
   "cell_type": "code",
   "execution_count": null,
   "id": "3239854b",
   "metadata": {},
   "outputs": [],
   "source": []
  },
  {
   "cell_type": "markdown",
   "id": "5906568b",
   "metadata": {},
   "source": [
    "#### Exercise 2.2\n",
    "##### Using the meteorite data from the `Meteorite_Landings.csv` file, update the `year` column to only contain the year, convert it to a numeric data type, and create a new column indicating whether the meteorite was observed falling before 1970. Set the index to the `id` column and extract all the rows with IDs between 10,036 and 10,040 (inclusive) with `loc[]`.\n",
    "\n",
    "###### **Hint 1**: Use `year.str.slice()` to grab a substring.\n",
    "\n",
    "###### **Hint 2**: Make sure to sort the index before using `loc[]` to select the range.\n",
    "\n",
    "###### **Bonus**: There's a data entry error in the `year` column. Can you find it? (Don't spend too much time on this.)"
   ]
  },
  {
   "cell_type": "code",
   "execution_count": null,
   "id": "9ad189ea",
   "metadata": {},
   "outputs": [],
   "source": []
  },
  {
   "cell_type": "markdown",
   "id": "eefef54a",
   "metadata": {},
   "source": [
    "#### Exercise 2.3\n",
    "##### Using the meteorite data from the `Meteorite_Landings.csv` file, create a pivot table that shows both the number of meteorites and the 95th percentile of meteorite mass for those that were found versus observed falling per year from 2005 through 2009 (inclusive). Hint: Be sure to convert the `year` column to a number as we did in the previous exercise."
   ]
  },
  {
   "cell_type": "code",
   "execution_count": null,
   "id": "d78f7bba",
   "metadata": {},
   "outputs": [],
   "source": []
  }
 ],
 "metadata": {
  "jupytext": {
   "formats": "ipynb,py:percent"
  },
  "kernelspec": {
   "display_name": "Python 3 (ipykernel)",
   "language": "python",
   "name": "python3"
  },
  "language_info": {
   "codemirror_mode": {
    "name": "ipython",
    "version": 3
   },
   "file_extension": ".py",
   "mimetype": "text/x-python",
   "name": "python",
   "nbconvert_exporter": "python",
   "pygments_lexer": "ipython3",
   "version": "3.9.7"
  }
 },
 "nbformat": 4,
 "nbformat_minor": 5
}
